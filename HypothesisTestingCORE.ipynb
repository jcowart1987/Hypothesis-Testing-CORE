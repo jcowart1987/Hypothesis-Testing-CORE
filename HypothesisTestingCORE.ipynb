{
 "cells": [
  {
   "cell_type": "code",
   "execution_count": 1,
   "id": "d86b611b",
   "metadata": {},
   "outputs": [],
   "source": [
    "import pandas as pd\n",
    "import numpy as np\n",
    "import matplotlib.pyplot as plt\n",
    "import seaborn as sns\n",
    "import scipy.stats as stats"
   ]
  },
  {
   "cell_type": "code",
   "execution_count": 2,
   "id": "230856e8",
   "metadata": {},
   "outputs": [
    {
     "data": {
      "text/html": [
       "<div>\n",
       "<style scoped>\n",
       "    .dataframe tbody tr th:only-of-type {\n",
       "        vertical-align: middle;\n",
       "    }\n",
       "\n",
       "    .dataframe tbody tr th {\n",
       "        vertical-align: top;\n",
       "    }\n",
       "\n",
       "    .dataframe thead th {\n",
       "        text-align: right;\n",
       "    }\n",
       "</style>\n",
       "<table border=\"1\" class=\"dataframe\">\n",
       "  <thead>\n",
       "    <tr style=\"text-align: right;\">\n",
       "      <th></th>\n",
       "      <th>age</th>\n",
       "      <th>sex</th>\n",
       "      <th>bmi</th>\n",
       "      <th>children</th>\n",
       "      <th>smoker</th>\n",
       "      <th>region</th>\n",
       "      <th>charges</th>\n",
       "    </tr>\n",
       "  </thead>\n",
       "  <tbody>\n",
       "    <tr>\n",
       "      <th>0</th>\n",
       "      <td>19</td>\n",
       "      <td>female</td>\n",
       "      <td>27.900</td>\n",
       "      <td>0</td>\n",
       "      <td>yes</td>\n",
       "      <td>southwest</td>\n",
       "      <td>16884.92400</td>\n",
       "    </tr>\n",
       "    <tr>\n",
       "      <th>1</th>\n",
       "      <td>18</td>\n",
       "      <td>male</td>\n",
       "      <td>33.770</td>\n",
       "      <td>1</td>\n",
       "      <td>no</td>\n",
       "      <td>southeast</td>\n",
       "      <td>1725.55230</td>\n",
       "    </tr>\n",
       "    <tr>\n",
       "      <th>2</th>\n",
       "      <td>28</td>\n",
       "      <td>male</td>\n",
       "      <td>33.000</td>\n",
       "      <td>3</td>\n",
       "      <td>no</td>\n",
       "      <td>southeast</td>\n",
       "      <td>4449.46200</td>\n",
       "    </tr>\n",
       "    <tr>\n",
       "      <th>3</th>\n",
       "      <td>33</td>\n",
       "      <td>male</td>\n",
       "      <td>22.705</td>\n",
       "      <td>0</td>\n",
       "      <td>no</td>\n",
       "      <td>northwest</td>\n",
       "      <td>21984.47061</td>\n",
       "    </tr>\n",
       "    <tr>\n",
       "      <th>4</th>\n",
       "      <td>32</td>\n",
       "      <td>male</td>\n",
       "      <td>28.880</td>\n",
       "      <td>0</td>\n",
       "      <td>no</td>\n",
       "      <td>northwest</td>\n",
       "      <td>3866.85520</td>\n",
       "    </tr>\n",
       "  </tbody>\n",
       "</table>\n",
       "</div>"
      ],
      "text/plain": [
       "   age     sex     bmi  children smoker     region      charges\n",
       "0   19  female  27.900         0    yes  southwest  16884.92400\n",
       "1   18    male  33.770         1     no  southeast   1725.55230\n",
       "2   28    male  33.000         3     no  southeast   4449.46200\n",
       "3   33    male  22.705         0     no  northwest  21984.47061\n",
       "4   32    male  28.880         0     no  northwest   3866.85520"
      ]
     },
     "execution_count": 2,
     "metadata": {},
     "output_type": "execute_result"
    }
   ],
   "source": [
    "df= pd.read_csv('Data/insurance - insurance.csv')\n",
    "df.head()"
   ]
  },
  {
   "cell_type": "markdown",
   "id": "1a7bd777",
   "metadata": {},
   "source": [
    "# We have been asked to use our hypothesis testing skills to answer the following questions:\n",
    "\n",
    "- Q1. Do smokers have higher insurance charges than non-smokers?\n",
    "- Q2. Are men more likely to smoke than women?\n",
    "- Q3. Do different regions have different charges, on average?"
   ]
  },
  {
   "cell_type": "markdown",
   "id": "9a961b9d",
   "metadata": {},
   "source": [
    "# Q1 - Do smokers have higher insurance charges than non-smokers\n",
    "\n",
    "1. Null Hypothesis: There is no significant difference in insurance charges between smokers and non-smokers.\n",
    "\n",
    "    Alternate Hypothesis: Smokers have higher insurance charges than non-smokers.\n",
    "\n",
    "    Significance value: .05\n",
    "\n",
    "2. Hypothesis Test: Since this is numeric data between 2 known groups, I will conduct a 2 Sample T-Test.\n",
    "\n",
    "3. Assumptions to test: 1) NO significant outliers, 2) normality, 3) equal Variance\n",
    "\n"
   ]
  },
  {
   "cell_type": "code",
   "execution_count": 3,
   "id": "eae95b4f",
   "metadata": {},
   "outputs": [
    {
     "data": {
      "text/plain": [
       "no     1064\n",
       "yes     274\n",
       "Name: smoker, dtype: int64"
      ]
     },
     "execution_count": 3,
     "metadata": {},
     "output_type": "execute_result"
    }
   ],
   "source": [
    "df['smoker'].value_counts()"
   ]
  },
  {
   "cell_type": "code",
   "execution_count": 4,
   "id": "2d869318",
   "metadata": {},
   "outputs": [],
   "source": [
    "smoker = df.loc[df['smoker']=='yes'].copy()\n",
    "nonsmoker = df.loc[df['smoker']=='no'].copy()"
   ]
  },
  {
   "cell_type": "code",
   "execution_count": 5,
   "id": "4bd6d449",
   "metadata": {},
   "outputs": [],
   "source": [
    "smoker_charges = smoker['charges']\n",
    "nonsmoker_charges = nonsmoker['charges']"
   ]
  },
  {
   "cell_type": "code",
   "execution_count": 6,
   "id": "5bf85458",
   "metadata": {},
   "outputs": [
    {
     "data": {
      "image/png": "[encoded data removed]",
      "text/plain": [
       "<Figure size 640x480 with 1 Axes>"
      ]
     },
     "metadata": {},
     "output_type": "display_data"
    }
   ],
   "source": [
    "sns.barplot(x='smoker', y='charges', data=df)\n",
    "plt.xlabel('Smoker')\n",
    "plt.ylabel('Charges')\n",
    "plt.title('Comparison of Charges between Smokers and Nonsmokers')\n",
    "plt.show()"
   ]
  },
  {
   "cell_type": "code",
   "execution_count": 7,
   "id": "0377544e",
   "metadata": {},
   "outputs": [
    {
     "data": {
      "text/plain": [
       "0"
      ]
     },
     "execution_count": 7,
     "metadata": {},
     "output_type": "execute_result"
    }
   ],
   "source": [
    "#Check for Outliers in smokers\n",
    "zscores = stats.zscore(smoker_charges)\n",
    "outliers = abs(zscores) > 3\n",
    "np.sum(outliers)"
   ]
  },
  {
   "cell_type": "markdown",
   "id": "e6575d22",
   "metadata": {},
   "source": [
    "\n",
    "There are no outliers to remove for smoker_charges"
   ]
  },
  {
   "cell_type": "code",
   "execution_count": 8,
   "id": "d6d764dc",
   "metadata": {},
   "outputs": [
    {
     "data": {
      "text/plain": [
       "24"
      ]
     },
     "execution_count": 8,
     "metadata": {},
     "output_type": "execute_result"
    }
   ],
   "source": [
    "#Check for outliers in nonsmokers\n",
    "zscores = stats.zscore(nonsmoker_charges)\n",
    "outliers = abs(zscores) > 3\n",
    "np.sum(outliers)"
   ]
  },
  {
   "cell_type": "code",
   "execution_count": 9,
   "id": "d39125fc",
   "metadata": {},
   "outputs": [],
   "source": [
    "#Remove outliers in nonsmokers\n",
    "nonsmoker_charges = nonsmoker_charges[(np.abs(stats.zscore(nonsmoker_charges)) <3)]"
   ]
  },
  {
   "cell_type": "code",
   "execution_count": 10,
   "id": "d70b2f9c",
   "metadata": {},
   "outputs": [
    {
     "data": {
      "text/plain": [
       "NormaltestResult(statistic=61.03941356533816, pvalue=5.564930630036463e-14)"
      ]
     },
     "execution_count": 10,
     "metadata": {},
     "output_type": "execute_result"
    }
   ],
   "source": [
    "#Check for Normality in smokers\n",
    "result_smokers = stats.normaltest(smoker_charges)\n",
    "result_smokers"
   ]
  },
  {
   "cell_type": "code",
   "execution_count": 11,
   "id": "b346f380",
   "metadata": {},
   "outputs": [
    {
     "data": {
      "text/plain": [
       "NormaltestResult(statistic=163.80367047789198, pvalue=2.6945416315543976e-36)"
      ]
     },
     "execution_count": 11,
     "metadata": {},
     "output_type": "execute_result"
    }
   ],
   "source": [
    "#Check for Normality in nonsmokers\n",
    "result_nonsmokers = stats.normaltest(nonsmoker_charges)\n",
    "result_nonsmokers"
   ]
  },
  {
   "cell_type": "markdown",
   "id": "f4a7f58a",
   "metadata": {},
   "source": [
    "Our p-values for both groups are well below 0.05 which means our data is NOT normally distributed. However, our our sample size is large enough to proceed without satisfying this test."
   ]
  },
  {
   "cell_type": "code",
   "execution_count": 12,
   "id": "5350adfa",
   "metadata": {},
   "outputs": [
    {
     "data": {
      "text/plain": [
       "LeveneResult(statistic=520.7468821724297, pvalue=2.4247238784347824e-97)"
      ]
     },
     "execution_count": 12,
     "metadata": {},
     "output_type": "execute_result"
    }
   ],
   "source": [
    "#Check for Equal Variance\n",
    "result = stats.levene(smoker_charges, nonsmoker_charges)\n",
    "result"
   ]
  },
  {
   "cell_type": "markdown",
   "id": "6e7f86b8",
   "metadata": {},
   "source": [
    "Since the pvalue is below .05, we do not have equal variance. So, we will include \"equal_var=False\" when performing T-test."
   ]
  },
  {
   "cell_type": "code",
   "execution_count": 13,
   "id": "ad4bc012",
   "metadata": {},
   "outputs": [
    {
     "data": {
      "text/plain": [
       "Ttest_indResult(statistic=33.732305987092516, pvalue=2.575322662587431e-104)"
      ]
     },
     "execution_count": 13,
     "metadata": {},
     "output_type": "execute_result"
    }
   ],
   "source": [
    "#Perform the T-Test\n",
    "result = stats.ttest_ind(smoker_charges, nonsmoker_charges, equal_var=False)\n",
    "result"
   ]
  },
  {
   "cell_type": "markdown",
   "id": "1db89801",
   "metadata": {},
   "source": [
    "Our P-value is below .05, so we reject the null hypothesis and accept that there is a significant difference between charges for smokers and nonsmokers."
   ]
  },
  {
   "cell_type": "markdown",
   "id": "bcdd25b9",
   "metadata": {},
   "source": [
    "# Q2 - Are men more likely to smoke than women?\n",
    "\n",
    "1. Null hypothesis: There is no difference in smoking rates between men and women.\n",
    "    Alternative hypothesis: Men are more likely to smoke than women.\n",
    "\n",
    "2. Hypothesis Test: Since this is categorical data between 2 known groups, I will conduct a Chi-Square test.\n",
    "\n",
    "3. Assumptions to test: 1)There are 2 categorical variables(nominal), 2) The outcomes are independent "
   ]
  },
  {
   "cell_type": "code",
   "execution_count": 14,
   "id": "7b561928",
   "metadata": {},
   "outputs": [
    {
     "data": {
      "text/plain": [
       "Text(0.5, 1.0, 'Number of Smokers by sex')"
      ]
     },
     "execution_count": 14,
     "metadata": {},
     "output_type": "execute_result"
    },
    {
     "data": {
      "image/png": "[encoded data removed]",
      "text/plain": [
       "<Figure size 640x480 with 1 Axes>"
      ]
     },
     "metadata": {},
     "output_type": "display_data"
    }
   ],
   "source": [
    "#Visualize men vs. women smokers\n",
    "ax = sns.countplot(data=df, x='sex', hue='smoker')\n",
    "ax.set_title('Number of Smokers by sex')"
   ]
  },
  {
   "cell_type": "code",
   "execution_count": 15,
   "id": "549a32b3",
   "metadata": {},
   "outputs": [
    {
     "data": {
      "text/html": [
       "<div>\n",
       "<style scoped>\n",
       "    .dataframe tbody tr th:only-of-type {\n",
       "        vertical-align: middle;\n",
       "    }\n",
       "\n",
       "    .dataframe tbody tr th {\n",
       "        vertical-align: top;\n",
       "    }\n",
       "\n",
       "    .dataframe thead th {\n",
       "        text-align: right;\n",
       "    }\n",
       "</style>\n",
       "<table border=\"1\" class=\"dataframe\">\n",
       "  <thead>\n",
       "    <tr style=\"text-align: right;\">\n",
       "      <th>smoker</th>\n",
       "      <th>no</th>\n",
       "      <th>yes</th>\n",
       "    </tr>\n",
       "    <tr>\n",
       "      <th>sex</th>\n",
       "      <th></th>\n",
       "      <th></th>\n",
       "    </tr>\n",
       "  </thead>\n",
       "  <tbody>\n",
       "    <tr>\n",
       "      <th>female</th>\n",
       "      <td>547</td>\n",
       "      <td>115</td>\n",
       "    </tr>\n",
       "    <tr>\n",
       "      <th>male</th>\n",
       "      <td>517</td>\n",
       "      <td>159</td>\n",
       "    </tr>\n",
       "  </tbody>\n",
       "</table>\n",
       "</div>"
      ],
      "text/plain": [
       "smoker   no  yes\n",
       "sex             \n",
       "female  547  115\n",
       "male    517  159"
      ]
     },
     "execution_count": 15,
     "metadata": {},
     "output_type": "execute_result"
    }
   ],
   "source": [
    "#Calculate the contingency table\n",
    "table = pd.crosstab(df['sex'], df['smoker'])\n",
    "table"
   ]
  },
  {
   "cell_type": "code",
   "execution_count": 16,
   "id": "000ea794",
   "metadata": {},
   "outputs": [],
   "source": [
    "#Run chi test and save the output\n",
    "result = stats.chi2_contingency(table)\n",
    "chi2, p, deg_free, expected_vals = result"
   ]
  },
  {
   "cell_type": "code",
   "execution_count": 17,
   "id": "f56ce2ea",
   "metadata": {},
   "outputs": [
    {
     "name": "stdout",
     "output_type": "stream",
     "text": [
      "0.006548143503580696\n"
     ]
    },
    {
     "data": {
      "text/plain": [
       "True"
      ]
     },
     "execution_count": 17,
     "metadata": {},
     "output_type": "execute_result"
    }
   ],
   "source": [
    "#What is our p value?\n",
    "print(p)\n",
    "p < .05"
   ]
  },
  {
   "cell_type": "markdown",
   "id": "db8875fc",
   "metadata": {},
   "source": [
    "The p-value is much less than 0.05, so we have a significant result.\n",
    "\n",
    "Since our p < .05, we reject the null hypothesis that there is no relationship between a person's Sex and if they are a smoker. This means that we accept the alternate hypothesis and conclude that there is a relationship between a person's sex and whether or not they are a smoker."
   ]
  },
  {
   "cell_type": "markdown",
   "id": "6f8d1f4b",
   "metadata": {},
   "source": [
    "# Q3 - Do different regions have different charges, on average?\n",
    "\n",
    "1. Null hypothesis: There is no difference in average charges between different regions.\n",
    "    Alternative hypothesis: Different regions have different charges, on average.\n",
    "    \n",
    "2. Hypothesis Test: Since this is numeric data comparing more than 2 groups, I will use an ANOVA and/or Tukey test. \n",
    "\n",
    "3. Assumptions to Test: 1) No significant outliers, 2) equal variance, 3) normality\n"
   ]
  },
  {
   "cell_type": "code",
   "execution_count": 18,
   "id": "1077fa3e",
   "metadata": {},
   "outputs": [
    {
     "data": {
      "text/plain": [
       "southeast    364\n",
       "southwest    325\n",
       "northwest    325\n",
       "northeast    324\n",
       "Name: region, dtype: int64"
      ]
     },
     "execution_count": 18,
     "metadata": {},
     "output_type": "execute_result"
    }
   ],
   "source": [
    "df['region'].value_counts()"
   ]
  },
  {
   "cell_type": "code",
   "execution_count": 19,
   "id": "dcb36262",
   "metadata": {},
   "outputs": [
    {
     "data": {
      "image/png": "[encoded data removed]",
      "text/plain": [
       "<Figure size 640x480 with 1 Axes>"
      ]
     },
     "metadata": {},
     "output_type": "display_data"
    }
   ],
   "source": [
    "#Visualize the data\n",
    "sns.barplot(data=df, x='region', y = 'charges');"
   ]
  },
  {
   "cell_type": "code",
   "execution_count": 20,
   "id": "75d4942a",
   "metadata": {},
   "outputs": [
    {
     "data": {
      "text/plain": [
       "dict_keys(['southwest', 'southeast', 'northwest', 'northeast'])"
      ]
     },
     "execution_count": 20,
     "metadata": {},
     "output_type": "execute_result"
    }
   ],
   "source": [
    "#Create a dictionary to analyze each group separately\n",
    "groups = {}\n",
    "\n",
    "for i in df['region'].unique():\n",
    "    data=df.loc[df['region']==i, 'charges'].copy()\n",
    "    groups[i] = data\n",
    "\n",
    "groups.keys()"
   ]
  },
  {
   "cell_type": "code",
   "execution_count": 21,
   "id": "41e1d8aa",
   "metadata": {},
   "outputs": [
    {
     "data": {
      "text/html": [
       "<div>\n",
       "<style scoped>\n",
       "    .dataframe tbody tr th:only-of-type {\n",
       "        vertical-align: middle;\n",
       "    }\n",
       "\n",
       "    .dataframe tbody tr th {\n",
       "        vertical-align: top;\n",
       "    }\n",
       "\n",
       "    .dataframe thead th {\n",
       "        text-align: right;\n",
       "    }\n",
       "</style>\n",
       "<table border=\"1\" class=\"dataframe\">\n",
       "  <thead>\n",
       "    <tr style=\"text-align: right;\">\n",
       "      <th></th>\n",
       "      <th>n</th>\n",
       "      <th>p</th>\n",
       "      <th>test stat</th>\n",
       "    </tr>\n",
       "  </thead>\n",
       "  <tbody>\n",
       "    <tr>\n",
       "      <th>southwest</th>\n",
       "      <td>325.0</td>\n",
       "      <td>6.125298e-23</td>\n",
       "      <td>102.294059</td>\n",
       "    </tr>\n",
       "    <tr>\n",
       "      <th>southeast</th>\n",
       "      <td>364.0</td>\n",
       "      <td>4.953297e-15</td>\n",
       "      <td>65.877446</td>\n",
       "    </tr>\n",
       "    <tr>\n",
       "      <th>northwest</th>\n",
       "      <td>325.0</td>\n",
       "      <td>5.184209e-24</td>\n",
       "      <td>107.232850</td>\n",
       "    </tr>\n",
       "    <tr>\n",
       "      <th>northeast</th>\n",
       "      <td>324.0</td>\n",
       "      <td>1.455431e-19</td>\n",
       "      <td>86.747629</td>\n",
       "    </tr>\n",
       "  </tbody>\n",
       "</table>\n",
       "</div>"
      ],
      "text/plain": [
       "               n             p   test stat\n",
       "southwest  325.0  6.125298e-23  102.294059\n",
       "southeast  364.0  4.953297e-15   65.877446\n",
       "northwest  325.0  5.184209e-24  107.232850\n",
       "northeast  324.0  1.455431e-19   86.747629"
      ]
     },
     "execution_count": 21,
     "metadata": {},
     "output_type": "execute_result"
    }
   ],
   "source": [
    "#Check for normality\n",
    "norm_results = {}\n",
    "\n",
    "for i, data in groups.items():\n",
    "    stat, p = stats.normaltest(data)\n",
    "    norm_results[i] = {'n': len(data),\n",
    "                      'p':p,\n",
    "                      'test stat':stat}\n",
    "\n",
    "norm_results_df = pd.DataFrame(norm_results).T\n",
    "norm_results_df"
   ]
  },
  {
   "cell_type": "code",
   "execution_count": 22,
   "id": "b7e3f684",
   "metadata": {},
   "outputs": [
    {
     "data": {
      "text/html": [
       "<div>\n",
       "<style scoped>\n",
       "    .dataframe tbody tr th:only-of-type {\n",
       "        vertical-align: middle;\n",
       "    }\n",
       "\n",
       "    .dataframe tbody tr th {\n",
       "        vertical-align: top;\n",
       "    }\n",
       "\n",
       "    .dataframe thead th {\n",
       "        text-align: right;\n",
       "    }\n",
       "</style>\n",
       "<table border=\"1\" class=\"dataframe\">\n",
       "  <thead>\n",
       "    <tr style=\"text-align: right;\">\n",
       "      <th></th>\n",
       "      <th>n</th>\n",
       "      <th>p</th>\n",
       "      <th>test stat</th>\n",
       "      <th>sig</th>\n",
       "    </tr>\n",
       "  </thead>\n",
       "  <tbody>\n",
       "    <tr>\n",
       "      <th>southwest</th>\n",
       "      <td>325.0</td>\n",
       "      <td>6.125298e-23</td>\n",
       "      <td>102.294059</td>\n",
       "      <td>True</td>\n",
       "    </tr>\n",
       "    <tr>\n",
       "      <th>southeast</th>\n",
       "      <td>364.0</td>\n",
       "      <td>4.953297e-15</td>\n",
       "      <td>65.877446</td>\n",
       "      <td>True</td>\n",
       "    </tr>\n",
       "    <tr>\n",
       "      <th>northwest</th>\n",
       "      <td>325.0</td>\n",
       "      <td>5.184209e-24</td>\n",
       "      <td>107.232850</td>\n",
       "      <td>True</td>\n",
       "    </tr>\n",
       "    <tr>\n",
       "      <th>northeast</th>\n",
       "      <td>324.0</td>\n",
       "      <td>1.455431e-19</td>\n",
       "      <td>86.747629</td>\n",
       "      <td>True</td>\n",
       "    </tr>\n",
       "  </tbody>\n",
       "</table>\n",
       "</div>"
      ],
      "text/plain": [
       "               n             p   test stat   sig\n",
       "southwest  325.0  6.125298e-23  102.294059  True\n",
       "southeast  364.0  4.953297e-15   65.877446  True\n",
       "northwest  325.0  5.184209e-24  107.232850  True\n",
       "northeast  324.0  1.455431e-19   86.747629  True"
      ]
     },
     "execution_count": 22,
     "metadata": {},
     "output_type": "execute_result"
    }
   ],
   "source": [
    "#Checking sig with pandas\n",
    "norm_results_df['sig'] = norm_results_df['p'] < .05\n",
    "norm_results_df"
   ]
  },
  {
   "cell_type": "markdown",
   "id": "6fb2f4cd",
   "metadata": {},
   "source": [
    "We can confirm that neither group has normal distribution, since they all have p < .05. However, we will ignore this because n >= 15 for each group, and we have between 2-9 groups."
   ]
  },
  {
   "cell_type": "code",
   "execution_count": 23,
   "id": "a5b59f81",
   "metadata": {},
   "outputs": [
    {
     "data": {
      "text/plain": [
       "LeveneResult(statistic=5.559966758410606, pvalue=0.0008610590250786703)"
      ]
     },
     "execution_count": 23,
     "metadata": {},
     "output_type": "execute_result"
    }
   ],
   "source": [
    "#Test for equal variance\n",
    "stats.levene(*groups.values())"
   ]
  },
  {
   "cell_type": "markdown",
   "id": "0358c466",
   "metadata": {},
   "source": [
    "We did not meet the assumption of equal variance. Because of this ,we will run a non-parametric test Kruskal-Wallis, since this was originally an ANOVA test. "
   ]
  },
  {
   "cell_type": "code",
   "execution_count": 25,
   "id": "d79553dc",
   "metadata": {},
   "outputs": [
    {
     "name": "stdout",
     "output_type": "stream",
     "text": [
      "Kruskal_wallis stats: 4.734181215658743\n",
      "P-value: 0.19232908072121002\n"
     ]
    }
   ],
   "source": [
    "southwest = df[df['region'] == 'southwest']['charges']\n",
    "southeast = df[df['region'] == 'southeast']['charges']\n",
    "northwest = df[df['region'] == 'northwest']['charges']\n",
    "northeast = df[df['region'] == 'northeast']['charges']\n",
    "\n",
    "statistic, p_value = stats.kruskal(southwest, southeast, northwest, northeast)\n",
    "\n",
    "print('Kruskal_wallis stats:', statistic)\n",
    "print('P-value:', p_value)"
   ]
  },
  {
   "cell_type": "markdown",
   "id": "ea8c929d",
   "metadata": {},
   "source": [
    "The p-value is above .05, meaning that we fail to reject the null hypothesis that regions have different charges, on average."
   ]
  }
 ],
 "metadata": {
  "kernelspec": {
   "display_name": "Python (dojo-env)",
   "language": "python",
   "name": "dojo-env"
  },
  "language_info": {
   "codemirror_mode": {
    "name": "ipython",
    "version": 3
   },
   "file_extension": ".py",
   "mimetype": "text/x-python",
   "name": "python",
   "nbconvert_exporter": "python",
   "pygments_lexer": "ipython3",
   "version": "3.9.15"
  },
  "toc": {
   "base_numbering": 1,
   "nav_menu": {},
   "number_sections": false,
   "sideBar": true,
   "skip_h1_title": false,
   "title_cell": "Table of Contents",
   "title_sidebar": "Contents",
   "toc_cell": false,
   "toc_position": {},
   "toc_section_display": true,
   "toc_window_display": false
  }
 },
 "nbformat": 4,
 "nbformat_minor": 5
}
